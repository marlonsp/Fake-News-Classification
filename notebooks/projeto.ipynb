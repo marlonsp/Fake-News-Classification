{
 "cells": [
  {
   "cell_type": "markdown",
   "metadata": {},
   "source": [
    "# Projeto: Classificação de Fake News Utilizando o Dataset WELFake\n",
    "\n",
    "Este projeto utiliza o dataset WELFake para realizar a classificação de notícias falsas utilizando técnicas de processamento de linguagem natural (NLP) e aprendizado de máquina. O modelo principal utilizado é o Support Vector Machine (SVM), que será treinado utilizando o vetorizador TF-IDF para transformar os textos em representações numéricas. Além disso, foi explorada a análise de tópicos usando LDA.\n",
    "\n",
    "---\n",
    "\n",
    "## Bibliotecas Utilizadas"
   ]
  },
  {
   "cell_type": "code",
   "execution_count": 2,
   "metadata": {},
   "outputs": [],
   "source": [
    "import pandas as pd\n",
    "import numpy as np\n",
    "import matplotlib.pyplot as plt\n",
    "import nltk\n",
    "from nltk.corpus import stopwords\n",
    "from nltk.stem import PorterStemmer, WordNetLemmatizer\n",
    "from sklearn.feature_extraction.text import TfidfVectorizer\n",
    "from sklearn.svm import SVC\n",
    "from sklearn.pipeline import Pipeline\n",
    "from sklearn.base import TransformerMixin\n",
    "from sklearn.metrics import classification_report, balanced_accuracy_score\n",
    "from sklearn.model_selection import train_test_split, StratifiedKFold\n",
    "import re"
   ]
  },
  {
   "cell_type": "markdown",
   "metadata": {},
   "source": [
    "## Carregamento e Inspeção dos Dados\n",
    "Aqui carregamos os dados e realizamos uma inspeção inicial para entender o formato e o conteúdo do dataset."
   ]
  },
  {
   "cell_type": "code",
   "execution_count": null,
   "metadata": {},
   "outputs": [],
   "source": [
    "# Load the data\n",
    "data_raw = pd.read_csv('../data/WELFake_Dataset.csv')\n",
    "data = data_raw.copy()\n",
    "\n",
    "# Visualizar os primeiros registros\n",
    "data.head()"
   ]
  },
  {
   "cell_type": "markdown",
   "metadata": {},
   "source": [
    "## Informações e Estatísticas Iniciais\n",
    "Analisamos as informações sobre as colunas do dataset, identificando os tipos de dados e a presença de valores nulos."
   ]
  },
  {
   "cell_type": "code",
   "execution_count": 4,
   "metadata": {},
   "outputs": [
    {
     "name": "stdout",
     "output_type": "stream",
     "text": [
      "<class 'pandas.core.frame.DataFrame'>\n",
      "RangeIndex: 72134 entries, 0 to 72133\n",
      "Data columns (total 4 columns):\n",
      " #   Column      Non-Null Count  Dtype \n",
      "---  ------      --------------  ----- \n",
      " 0   Unnamed: 0  72134 non-null  int64 \n",
      " 1   title       71576 non-null  object\n",
      " 2   text        72095 non-null  object\n",
      " 3   label       72134 non-null  int64 \n",
      "dtypes: int64(2), object(2)\n",
      "memory usage: 2.2+ MB\n"
     ]
    }
   ],
   "source": [
    "data.info()"
   ]
  },
  {
   "cell_type": "code",
   "execution_count": 5,
   "metadata": {},
   "outputs": [
    {
     "data": {
      "text/plain": [
       "Unnamed: 0      0\n",
       "title         558\n",
       "text           39\n",
       "label           0\n",
       "dtype: int64"
      ]
     },
     "execution_count": 5,
     "metadata": {},
     "output_type": "execute_result"
    }
   ],
   "source": [
    "data.isna().sum()"
   ]
  },
  {
   "cell_type": "markdown",
   "metadata": {},
   "source": [
    "## Distribuição dos Rótulos (Fake News vs Real News)\n",
    "Verificamos a distribuição dos rótulos no dataset."
   ]
  },
  {
   "cell_type": "code",
   "execution_count": 6,
   "metadata": {},
   "outputs": [
    {
     "data": {
      "text/plain": [
       "label\n",
       "1    37106\n",
       "0    35028\n",
       "Name: count, dtype: int64"
      ]
     },
     "execution_count": 6,
     "metadata": {},
     "output_type": "execute_result"
    }
   ],
   "source": [
    "data.label.value_counts()"
   ]
  },
  {
   "cell_type": "markdown",
   "metadata": {},
   "source": [
    "## Limpeza e Preprocessamento dos Dados\n",
    "Removemos colunas desnecessárias e tratamos os valores ausentes."
   ]
  },
  {
   "cell_type": "code",
   "execution_count": 7,
   "metadata": {},
   "outputs": [],
   "source": [
    "data.drop('Unnamed: 0',axis=1,inplace=True)\n",
    "\n",
    "# Substituindo valores NaN nas colunas 'title' e 'text' por strings vazias\n",
    "data['title'] = data['title'].fillna('')\n",
    "data['text'] = data['text'].fillna('')\n",
    "\n",
    "data['combined_text'] = data['title'] + ' ' + data['text']"
   ]
  },
  {
   "cell_type": "markdown",
   "metadata": {},
   "source": [
    "Realizamos o preprocessamento do texto, incluindo a remoção de stopwords, tokenização e lematização."
   ]
  },
  {
   "cell_type": "code",
   "execution_count": 9,
   "metadata": {},
   "outputs": [],
   "source": [
    "# Inicializando o lemmatizer e definindo as stopwords\n",
    "lemmatizer = WordNetLemmatizer()\n",
    "nltk.download('stopwords')\n",
    "stop_words = set(stopwords.words('english'))\n",
    "\n",
    "def preprocess_text(text):\n",
    "    stop_words = set(stopwords.words('english'))\n",
    "    stemmer = PorterStemmer()\n",
    "    lemmatizer = WordNetLemmatizer()\n",
    "    \n",
    "    tokens = nltk.word_tokenize(text.lower())\n",
    "    tokens = [lemmatizer.lemmatize(stemmer.stem(token)) for token in tokens if token.isalnum()]\n",
    "    tokens = [token for token in tokens if token not in stop_words]\n",
    "    \n",
    "    return ' '.join(tokens)\n",
    "\n",
    "# Aplicando a função de preprocessamento ao texto\n",
    "data['combined_text'] = data['combined_text'].apply(preprocess_text)"
   ]
  },
  {
   "cell_type": "markdown",
   "metadata": {},
   "source": [
    "## Divisão dos Dados em Conjuntos de Treino e Teste\n",
    "Dividimos os dados em conjuntos de treino e teste com uma proporção de 80/20."
   ]
  },
  {
   "cell_type": "code",
   "execution_count": null,
   "metadata": {},
   "outputs": [],
   "source": [
    "# Dividindo os dados em treino e teste\n",
    "X = data['combined_text']\n",
    "y = data['label']\n",
    "\n",
    "X_train, X_test, y_train, y_test = train_test_split(\n",
    "    X, y, test_size=0.2, random_state=42\n",
    ")"
   ]
  },
  {
   "cell_type": "markdown",
   "metadata": {},
   "source": [
    "## Vetorização do Texto com TF-IDF\n",
    "Utilizamos o TF-IDF para transformar o texto em uma matriz numérica"
   ]
  },
  {
   "cell_type": "code",
   "execution_count": null,
   "metadata": {},
   "outputs": [],
   "source": [
    "# Inicializando o vetorizador TF-IDF\n",
    "vectorizer = TfidfVectorizer()\n",
    "X_train_tfidf = vectorizer.fit_transform(X_train)\n",
    "X_test_tfidf = vectorizer.transform(X_test)"
   ]
  },
  {
   "cell_type": "markdown",
   "metadata": {},
   "source": [
    "## Treinamento do Classificador SVM\n",
    "Treinamos o modelo SVM para realizar a classificação das notícias."
   ]
  },
  {
   "cell_type": "code",
   "execution_count": 81,
   "metadata": {},
   "outputs": [
    {
     "name": "stdout",
     "output_type": "stream",
     "text": [
      "Balanced Accuracy: 0.9583\n"
     ]
    }
   ],
   "source": [
    "# Treinar um classificador (SVM)\n",
    "clf = SVC(kernel='linear', class_weight='balanced')\n",
    "clf.fit(X_train_tfidf, y_train)\n",
    "\n",
    "# Avaliar o classificador\n",
    "y_pred = clf.predict(X_test_tfidf)\n",
    "balanced_accuracy = balanced_accuracy_score(y_test, y_pred)\n",
    "print(f\"Balanced Accuracy: {balanced_accuracy:.4f}\")"
   ]
  },
  {
   "cell_type": "markdown",
   "metadata": {},
   "source": [
    "## Análise dos Coeficientes do Modelo\n",
    "Exibimos as palavras mais importantes (com maiores coeficientes) no modelo SVM."
   ]
  },
  {
   "cell_type": "code",
   "execution_count": 82,
   "metadata": {},
   "outputs": [
    {
     "name": "stdout",
     "output_type": "stream",
     "text": [
      "Top 5 palavras com maior coeficiente positivo:\n",
      "via: 15.5107\n",
      "imag: 9.6154\n",
      "video: 5.4752\n",
      "octob: 5.4620\n",
      "hillari: 4.6484\n",
      "\n",
      "Top 5 palavras com menor coeficiente negativo:\n",
      "reuter: -22.4815\n",
      "000: -10.9173\n",
      "breitbart: -10.2780\n",
      "said: -8.9144\n",
      "twitter: -6.7402\n"
     ]
    }
   ],
   "source": [
    "# Obter os nomes das features (palavras) do TF-IDF\n",
    "feature_names = vectorizer.get_feature_names_out()\n",
    "\n",
    "# Obter os coeficientes do classificador\n",
    "coefficients = clf.coef_.toarray()\n",
    "\n",
    "# Para um classificador binário, clf.coef_ terá apenas uma linha\n",
    "# Obter os índices das palavras\n",
    "positive_indices = np.argsort(coefficients[0])[::-1][:5]  # Top 5 positivos\n",
    "negative_indices = np.argsort(coefficients[0])[:5]  # Top 5 negativos\n",
    "\n",
    "# Exibir as palavras mais importantes e seus respectivos coeficientes\n",
    "print(\"Top 5 palavras com maior coeficiente positivo:\")\n",
    "for i in positive_indices:\n",
    "    print(f\"{feature_names[i]}: {coefficients[0, i]:.4f}\")\n",
    "\n",
    "print(\"\\nTop 5 palavras com menor coeficiente negativo:\")\n",
    "for i in negative_indices:\n",
    "    print(f\"{feature_names[i]}: {coefficients[0, i]:.4f}\")\n"
   ]
  },
  {
   "cell_type": "markdown",
   "metadata": {},
   "source": [
    "## Impacto do Tamanho do Dataset no Desempenho\n",
    "Testamos diferentes tamanhos de amostras para verificar o impacto no desempenho do modelo."
   ]
  },
  {
   "cell_type": "code",
   "execution_count": 10,
   "metadata": {},
   "outputs": [],
   "source": [
    "def compare_size(X, y, amostras_size=0.1):\n",
    "    amostra = int(len(X) * amostras_size)\n",
    "    \n",
    "    if amostras_size == 1.0:\n",
    "        X_amostra, y_amostra = X, y\n",
    "    else:\n",
    "        X_amostra, _, y_amostra, _ = train_test_split(X, y, train_size=amostra, stratify=y, random_state=42)\n",
    "        \n",
    "    \n",
    "    X_train, X_test, y_train, y_test = train_test_split(X_amostra, y_amostra, test_size=0.3, random_state=42)\n",
    "    \n",
    "    tdidf_vectorizer = TfidfVectorizer()\n",
    "\n",
    "    X_train_tfidf = tdidf_vectorizer.fit_transform(X_train)\n",
    "    X_test_tfidf = tdidf_vectorizer.transform(X_test)\n",
    "    \n",
    "    clf = SVC(kernel='linear', class_weight='balanced')\n",
    "    clf.fit(X_train_tfidf, y_train)\n",
    "    \n",
    "    train_error = 1 - balanced_accuracy_score(y_train, clf.predict(X_train_tfidf))\n",
    "    balanced_accuracy = balanced_accuracy_score(y_test, clf.predict(X_test_tfidf))\n",
    "    test_error = 1 - balanced_accuracy\n",
    "    return train_error, test_error, balanced_accuracy\n",
    "\n",
    "amostras = [0.1, 0.25, 0.5, 0.75, 1.0]\n",
    "accuracies = []\n",
    "train_errors = []\n",
    "test_errors = []\n",
    "\n",
    "for amostra in amostras:\n",
    "    train_error, test_error, accuracy = compare_size(X, y, amostra)\n",
    "    train_errors.append(train_error)\n",
    "    test_errors.append(test_error)\n",
    "    accuracies.append(accuracy)"
   ]
  },
  {
   "cell_type": "code",
   "execution_count": 12,
   "metadata": {},
   "outputs": [
    {
     "data": {
      "image/png": "[encoded data removed]",
      "text/plain": [
       "<Figure size 1000x600 with 1 Axes>"
      ]
     },
     "metadata": {},
     "output_type": "display_data"
    },
    {
     "data": {
      "image/png": "[encoded data removed]",
      "text/plain": [
       "<Figure size 1000x600 with 1 Axes>"
      ]
     },
     "metadata": {},
     "output_type": "display_data"
    }
   ],
   "source": [
    "plt.figure(figsize=(10, 6))\n",
    "plt.errorbar(amostras, accuracies, fmt='-o')\n",
    "plt.title('Tamanho do Dataset - Acurácia')\n",
    "plt.xlabel('Parcela do Dataset')\n",
    "plt.ylabel('Balanced Accuracy')\n",
    "plt.ylim(0.8, 1)\n",
    "plt.grid(True)\n",
    "plt.show()\n",
    "\n",
    "plt.figure(figsize=(10, 6))\n",
    "plt.errorbar(amostras, train_errors, fmt='-o', label='Train error')\n",
    "plt.errorbar(amostras, test_errors, fmt='-o', label='Test error')\n",
    "plt.title('Tamanho do Dataset - Train and Test Error')\n",
    "plt.xlabel('Parcela do Dataset')\n",
    "plt.ylabel('Erro')\n",
    "plt.ylim(0, 0.2)\n",
    "plt.legend()\n",
    "plt.grid(True)\n",
    "plt.show()"
   ]
  },
  {
   "cell_type": "markdown",
   "metadata": {},
   "source": [
    "## Análise de Tópicos com LDA\n",
    "Aplicamos LDA para identificar tópicos principais no dataset e associar as notícias aos tópicos."
   ]
  },
  {
   "cell_type": "code",
   "execution_count": 20,
   "metadata": {},
   "outputs": [
    {
     "name": "stdout",
     "output_type": "stream",
     "text": [
      "Tópico 0:\n",
      "said united government state states military president china reuters north\n",
      "Tópico 1:\n",
      "said mr trump court police law president state new people\n",
      "Tópico 2:\n",
      "people like new said just time years world year life\n",
      "Tópico 3:\n",
      "trump said clinton republican new house state president party election\n",
      "Tópico 4:\n",
      "trump president hillary clinton people donald just news like media\n"
     ]
    }
   ],
   "source": [
    "from sklearn.feature_extraction.text import CountVectorizer\n",
    "from sklearn.decomposition import LatentDirichletAllocation\n",
    "\n",
    "# Vetorização do texto\n",
    "vectorizer = CountVectorizer(max_df=0.9, min_df=2, stop_words='english')\n",
    "X_vectorized = vectorizer.fit_transform(data['combined_text'])\n",
    "\n",
    "# Definindo o número de tópicos e ajustando o modelo LDA\n",
    "n_topics = 5\n",
    "lda = LatentDirichletAllocation(n_components=n_topics, random_state=42)\n",
    "lda.fit(X_vectorized)\n",
    "\n",
    "# Exibir os principais tópicos\n",
    "def display_topics(model, feature_names, no_top_words):\n",
    "    for topic_idx, topic in enumerate(model.components_):\n",
    "        print(f\"Tópico {topic_idx}:\")\n",
    "        print(\" \".join([feature_names[i] for i in topic.argsort()[:-no_top_words - 1:-1]]))\n",
    "\n",
    "# Exibir as 10 palavras principais de cada tópico\n",
    "no_top_words = 10\n",
    "feature_names = vectorizer.get_feature_names_out()\n",
    "display_topics(lda, feature_names, no_top_words)"
   ]
  },
  {
   "cell_type": "markdown",
   "metadata": {},
   "source": [
    "## Atribuição de tópicos aos documentos\n",
    "Cada documento foi atribuído a um tópico com base na maior probabilidade de associação ao tema."
   ]
  },
  {
   "cell_type": "code",
   "execution_count": 21,
   "metadata": {},
   "outputs": [],
   "source": [
    "# Atribuir um tópico a cada documento com base na probabilidade mais alta\n",
    "document_topics = lda.transform(X_vectorized)\n",
    "data['dominant_topic'] = document_topics.argmax(axis=1)"
   ]
  },
  {
   "cell_type": "markdown",
   "metadata": {},
   "source": [
    "## Avaliação por tópico\n",
    "Classificadores SVM separados foram treinados para cada tópico, avaliando a acurácia para os documentos de cada tópico individualmente."
   ]
  },
  {
   "cell_type": "code",
   "execution_count": 22,
   "metadata": {},
   "outputs": [
    {
     "name": "stdout",
     "output_type": "stream",
     "text": [
      "Tópico 4: Acurácia = 0.9565\n",
      "Tópico 1: Acurácia = 0.9481\n",
      "Tópico 0: Acurácia = 0.9590\n",
      "Tópico 3: Acurácia = 0.9339\n",
      "Tópico 2: Acurácia = 0.9346\n"
     ]
    }
   ],
   "source": [
    "from sklearn.model_selection import train_test_split\n",
    "from sklearn.svm import SVC\n",
    "from sklearn.metrics import accuracy_score\n",
    "\n",
    "topic_accuracies = []\n",
    "\n",
    "# Para cada tópico, treinar um classificador separado\n",
    "for topic in data['dominant_topic'].unique():\n",
    "    # Filtrar os dados por tópico\n",
    "    topic_data = data[data['dominant_topic'] == topic]\n",
    "    X_topic = topic_data['combined_text']\n",
    "    y_topic = topic_data['label']\n",
    "    \n",
    "    # Dividir em treino e teste\n",
    "    X_train, X_test, y_train, y_test = train_test_split(X_topic, y_topic, test_size=0.2, random_state=42)\n",
    "    \n",
    "    # Vetorização TF-IDF\n",
    "    X_train_tfidf = vectorizer.fit_transform(X_train)\n",
    "    X_test_tfidf = vectorizer.transform(X_test)\n",
    "    \n",
    "    # Treinando um classificador (usando SVM como exemplo)\n",
    "    clf = SVC(kernel='linear', class_weight='balanced')\n",
    "    clf.fit(X_train_tfidf, y_train)\n",
    "    \n",
    "    # Previsões e avaliação\n",
    "    y_pred = clf.predict(X_test_tfidf)\n",
    "    accuracy = accuracy_score(y_test, y_pred)\n",
    "    topic_accuracies.append((topic, accuracy))\n",
    "    \n",
    "    print(f\"Tópico {topic}: Acurácia = {accuracy:.4f}\")\n"
   ]
  },
  {
   "cell_type": "markdown",
   "metadata": {},
   "source": [
    "Referência: P. K. Verma, P. Agrawal, I. Amorim, and R. Prodan, ``WELFake: Word Embedding Over Linguistic Features for Fake News Detection,'' IEEE Transactions on Computational Social Systems, vol. 8, no. 4, pp. 881–893, 2021. doi:10.1109/TCSS.2021.3068519."
   ]
  }
 ],
 "metadata": {
  "kernelspec": {
   "display_name": "Python 3",
   "language": "python",
   "name": "python3"
  },
  "language_info": {
   "codemirror_mode": {
    "name": "ipython",
    "version": 3
   },
   "file_extension": ".py",
   "mimetype": "text/x-python",
   "name": "python",
   "nbconvert_exporter": "python",
   "pygments_lexer": "ipython3",
   "version": "3.10.6"
  }
 },
 "nbformat": 4,
 "nbformat_minor": 2
}
